{
 "cells": [
  {
   "cell_type": "markdown",
   "metadata": {
    "nbpresent": {
     "id": "a3647bee-6c37-43ce-b70e-73b0ac767a37"
    }
   },
   "source": [
    "# Intro to Keras: Neural Networks for Digit Classification\n",
    "Online lesson link: http://caisplusplus.usc.edu/blog/curriculum/lesson5\n",
    "\n",
    "#### Relevant guides:\n",
    "* Getting started with Keras: https://keras.io/\n",
    "* Sequential model guide: https://keras.io/getting-started/sequential-model-guide/"
   ]
  },
  {
   "cell_type": "markdown",
   "metadata": {},
   "source": [
    "### Loading in MNIST"
   ]
  },
  {
   "cell_type": "code",
   "execution_count": 1,
   "metadata": {
    "nbpresent": {
     "id": "aa21eec0-d9e9-4575-8cec-408d8f044b20"
    }
   },
   "outputs": [
    {
     "name": "stderr",
     "output_type": "stream",
     "text": [
      "Using TensorFlow backend.\n"
     ]
    }
   ],
   "source": [
    "# Import MNIST dataset from Keras\n",
    "\n",
    "from keras.datasets import mnist\n",
    "(train_x, train_y), (test_x, test_y) = mnist.load_data()"
   ]
  },
  {
   "cell_type": "code",
   "execution_count": 2,
   "metadata": {
    "nbpresent": {
     "id": "b04508f5-7038-4d57-a3ad-a8e1dd3e172e"
    },
    "scrolled": true
   },
   "outputs": [
    {
     "name": "stdout",
     "output_type": "stream",
     "text": [
      "Inputs shape is (60000, 28, 28)\n",
      "Input type is <class 'numpy.ndarray'>\n",
      "Labels:\n",
      "[5 0 4 ..., 5 6 8]\n",
      "Labels shape is(60000,)\n",
      "Labels type is <class 'numpy.ndarray'>\n"
     ]
    }
   ],
   "source": [
    "# Data exploration\n",
    "\n",
    "print(\"Inputs shape is \" + str(train_x.shape)) # 60,000 samples, each image: 28 x 28 pixels\n",
    "print(\"Input type is \" + str(type(train_x)))\n",
    "print(\"Labels:\")\n",
    "print(train_y)\n",
    "print(\"Labels shape is\" + str(train_y.shape))\n",
    "print(\"Labels type is \" + str(type(train_y)))"
   ]
  },
  {
   "cell_type": "code",
   "execution_count": 3,
   "metadata": {
    "collapsed": true,
    "nbpresent": {
     "id": "4f9fadce-17a5-45d3-abeb-4c09ff57cfa7"
    }
   },
   "outputs": [],
   "source": [
    "# Matplotlib: Data visualization library\n",
    "import matplotlib.pyplot as plt"
   ]
  },
  {
   "cell_type": "code",
   "execution_count": 4,
   "metadata": {
    "nbpresent": {
     "id": "572a96a1-19cb-45e3-9763-acfc3d87dc7f"
    }
   },
   "outputs": [
    {
     "name": "stdout",
     "output_type": "stream",
     "text": [
      "5\n"
     ]
    },
    {
     "data": {
      "image/png": "[encoded data removed]",
      "text/plain": [
       "<matplotlib.figure.Figure at 0x237eaae4470>"
      ]
     },
     "metadata": {},
     "output_type": "display_data"
    }
   ],
   "source": [
    "# Visualize the input samples\n",
    "\n",
    "sample_num = 0\n",
    "\n",
    "plt.imshow(train_x[sample_num], cmap=plt.get_cmap('gray'))\n",
    "print(train_y[sample_num])\n",
    "plt.show()"
   ]
  },
  {
   "cell_type": "markdown",
   "metadata": {},
   "source": [
    "### Pre-Processing the Data: \n",
    "* Flatten the 28 x 28 images into 784-dimensional vectors\n",
    "* Normalize the pixel values from 0-255 to 0-1\n",
    "* Categorize the outputs into 10-dimensional \"one-hot\" vectors"
   ]
  },
  {
   "cell_type": "code",
   "execution_count": 5,
   "metadata": {
    "collapsed": true,
    "nbpresent": {
     "id": "f8dd8606-82f9-4d0c-a62b-45beb371eddc"
    }
   },
   "outputs": [],
   "source": [
    "# flatten 28*28 images to a 784 vector for each image\n",
    "\n",
    "num_pixels = train_x.shape[1] * train_x.shape[2] # 28 * 28 = 784\n",
    "train_x_flattened = train_x.reshape(train_x.shape[0], num_pixels).astype('float32') # new shape: 60,000 x 784\n",
    "test_x_flattened = test_x.reshape(test_x.shape[0], num_pixels).astype('float32') # new shape: 10,000 x 784"
   ]
  },
  {
   "cell_type": "code",
   "execution_count": 6,
   "metadata": {
    "collapsed": true,
    "nbpresent": {
     "id": "23cd5489-7e90-47a1-aba3-2a802d1075ac"
    }
   },
   "outputs": [],
   "source": [
    "# Normalize pixel values to between 0-1\n",
    "train_x_flattened = train_x_flattened / 255.\n",
    "test_x_flattened = test_x_flattened / 255."
   ]
  },
  {
   "cell_type": "code",
   "execution_count": 7,
   "metadata": {
    "nbpresent": {
     "id": "e11182b1-7e19-4c34-be1e-b1c71179f014"
    }
   },
   "outputs": [
    {
     "name": "stdout",
     "output_type": "stream",
     "text": [
      "[[ 0.  0.  0.  0.  0.  0.  0.  1.  0.  0.]\n",
      " [ 0.  0.  1.  0.  0.  0.  0.  0.  0.  0.]\n",
      " [ 0.  1.  0.  0.  0.  0.  0.  0.  0.  0.]\n",
      " [ 1.  0.  0.  0.  0.  0.  0.  0.  0.  0.]\n",
      " [ 0.  0.  0.  0.  1.  0.  0.  0.  0.  0.]]\n"
     ]
    }
   ],
   "source": [
    "import keras\n",
    "\n",
    "# Use Keras to categorize the outputs (\"one-hot\" vectors)\n",
    "train_y_categorical = keras.utils.to_categorical(train_y, num_classes=10)\n",
    "test_y_categorical = keras.utils.to_categorical(test_y, num_classes=10)\n",
    "\n",
    "# let's see result of categorizing the outputs\n",
    "print(test_y_categorical[:5])"
   ]
  },
  {
   "cell_type": "markdown",
   "metadata": {},
   "source": [
    "### Creating our Neural Network Model\n",
    "1. Initialize the model, add desired layers\n",
    "2. Compile the model to get ready for training\n",
    "3. Set up the callbacks to track the model training/improvement\n",
    "4. Fit the model to the training data"
   ]
  },
  {
   "cell_type": "code",
   "execution_count": 8,
   "metadata": {
    "collapsed": true,
    "nbpresent": {
     "id": "81b9fc81-511c-4d2d-be23-883d0009bc74"
    }
   },
   "outputs": [],
   "source": [
    "from keras.layers import Dense, Activation\n",
    "from keras.models import Sequential\n",
    "\n",
    "# Initialize simple neural network model\n",
    "model = Sequential()\n",
    "\n",
    "# TODO: add layers to the model\n",
    "\n",
    "# Hidden layer 1: 500 neurons, 'relu' activation\n",
    "model.add(Dense(units=500, input_dim=784))\n",
    "model.add(Activation('relu'))\n",
    "\n",
    "# Hidden layer 2: 250 neurons, 'relu' activation\n",
    "model.add(Dense(units=250))\n",
    "model.add(Activation('relu'))\n",
    "\n",
    "# Output layer: 10 neurons (one for each class), softmax activation\n",
    "model.add(Dense(units=10))f\n",
    "model.add(Activation('softmax'))"
   ]
  },
  {
   "cell_type": "code",
   "execution_count": 9,
   "metadata": {
    "collapsed": true,
    "nbpresent": {
     "id": "bf842b6a-20db-42f4-9333-b1e30857e725"
    }
   },
   "outputs": [],
   "source": [
    "# Compile the model, get ready to train\n",
    "\n",
    "# TODO: compile the model\n",
    "    # Loss: categorical cross-entropy\n",
    "    # Optimizer: stochastic gradient descent (SGD)\n",
    "    # Additional metrics: Accuracy\n",
    "    \n",
    "model.compile(loss='categorical_crossentropy', \n",
    "             optimizer='sgd',\n",
    "             metrics=['accuracy'])\n",
    "    "
   ]
  },
  {
   "cell_type": "code",
   "execution_count": 10,
   "metadata": {},
   "outputs": [
    {
     "name": "stdout",
     "output_type": "stream",
     "text": [
      "_________________________________________________________________\n",
      "Layer (type)                 Output Shape              Param #   \n",
      "=================================================================\n",
      "dense_1 (Dense)              (None, 500)               392500    \n",
      "_________________________________________________________________\n",
      "activation_1 (Activation)    (None, 500)               0         \n",
      "_________________________________________________________________\n",
      "dense_2 (Dense)              (None, 250)               125250    \n",
      "_________________________________________________________________\n",
      "activation_2 (Activation)    (None, 250)               0         \n",
      "_________________________________________________________________\n",
      "dense_3 (Dense)              (None, 10)                2510      \n",
      "_________________________________________________________________\n",
      "activation_3 (Activation)    (None, 10)                0         \n",
      "=================================================================\n",
      "Total params: 520,260\n",
      "Trainable params: 520,260\n",
      "Non-trainable params: 0\n",
      "_________________________________________________________________\n"
     ]
    }
   ],
   "source": [
    "# Print model summary\n",
    "model.summary()"
   ]
  },
  {
   "cell_type": "markdown",
   "metadata": {},
   "source": [
    "#### Callback tools:\n",
    "* **TQDM**: progress bar library\n",
    "* **Tensorboard**: built-in tool to plot model loss, accuracy, etc."
   ]
  },
  {
   "cell_type": "code",
   "execution_count": 31,
   "metadata": {
    "collapsed": true,
    "nbpresent": {
     "id": "cadc9d02-6798-4902-b97f-16591fe7ed58"
    }
   },
   "outputs": [],
   "source": [
    "# Import relevant libraries\n",
    "#from keras_tqdm import TQDMNotebookCallback # TQDM: progress bars\n",
    "from keras.callbacks import TensorBoard # Tensorboard: training plots\n",
    "    \n",
    "# Clear any existing Tensorboard logs\n",
    "import shutil\n",
    "shutil.rmtree('./logs', ignore_errors=True)\n",
    "\n",
    "# Set up callback links to refer back to during training\n",
    "tensorboard = TensorBoard()\n",
    "callbacks_list = [tensorboard]"
   ]
  },
  {
   "cell_type": "code",
   "execution_count": 32,
   "metadata": {
    "nbpresent": {
     "id": "2fbdd2f4-e1eb-4bd5-aef4-5869948e4b89"
    }
   },
   "outputs": [
    {
     "data": {
      "text/plain": [
       "<keras.callbacks.History at 0x237de18f908>"
      ]
     },
     "execution_count": 32,
     "metadata": {},
     "output_type": "execute_result"
    }
   ],
   "source": [
    "# Fit the model to the training data\n",
    "\n",
    "# Validation split: reserve some of our training data to use as \"validation\" data\n",
    "    # Won't train on validation data -- check validation loss to look for overfitting\n",
    "    \n",
    "# Pass in our callbacks to track training progress\n",
    "\n",
    "# TODO: train the model\n",
    "    # Number of epochs: 5\n",
    "    # Batch size: 32\n",
    "    # Validation split: 0.1\n",
    "    # Verbose setting: use TQDM progress bars\n",
    "\n",
    "model.fit(train_x_flattened, train_y_categorical,\n",
    "         epochs=5,\n",
    "         batch_size=32,\n",
    "         validation_split=0.1,\n",
    "         verbose=0,\n",
    "         callbacks=callbacks_list)\n",
    "    "
   ]
  },
  {
   "cell_type": "markdown",
   "metadata": {},
   "source": [
    "**To launch Tensorboard after training:**\n",
    "* Type in command line: `tensorboard --logdir ./logs`\n",
    "* Open in browser: `http://localhost:6006`"
   ]
  },
  {
   "cell_type": "markdown",
   "metadata": {},
   "source": [
    "### Evaluating the Model"
   ]
  },
  {
   "cell_type": "code",
   "execution_count": 33,
   "metadata": {
    "nbpresent": {
     "id": "0864543a-2392-4ae5-bbdd-375e934184f4"
    }
   },
   "outputs": [
    {
     "name": "stdout",
     "output_type": "stream",
     "text": [
      "\n",
      "10000/10000 [==============================] - ETA:  - ETA:  - ETA:  - ETA:  - ETA:  - ETA:  - ETA:  - ETA:  - ETA:  - ETA:  - ETA:  - ETA:  - ETA:  - ETA:  - ETA:  - ETA:  - ETA:  - 0s     \n",
      "hi\n",
      "[0.094659643194079393, 0.9718]\n"
     ]
    }
   ],
   "source": [
    "# Evaluate trained model on test data\n",
    "\n",
    "# returns final test loss & test accuracy\n",
    "print('')\n",
    "loss_and_metrics = model.evaluate(test_x_flattened, test_y_categorical, batch_size=128)\n",
    "print('hi')\n",
    "print(loss_and_metrics)"
   ]
  },
  {
   "cell_type": "markdown",
   "metadata": {},
   "source": [
    "Lastly: Make sure the our neural network's predictions match up with the actual images"
   ]
  },
  {
   "cell_type": "code",
   "execution_count": 34,
   "metadata": {
    "nbpresent": {
     "id": "3cdfe0ff-f08a-4ded-af33-c091211b22a7"
    }
   },
   "outputs": [
    {
     "name": "stdout",
     "output_type": "stream",
     "text": [
      "[[  6.14503506e-06   2.49013766e-07   8.22882939e-05   1.44941814e-03\n",
      "    3.91590937e-08   1.42504987e-05   4.73364542e-11   9.98435676e-01\n",
      "    1.56215765e-06   1.03459070e-05]]\n",
      "7\n"
     ]
    },
    {
     "data": {
      "image/png": "[encoded data removed]",
      "text/plain": [
       "<matplotlib.figure.Figure at 0x237eea18860>"
      ]
     },
     "metadata": {},
     "output_type": "display_data"
    }
   ],
   "source": [
    "import numpy as np\n",
    "\n",
    "sample_num = 0 # which test sample to look at\n",
    "\n",
    "# Predicted class\n",
    "test_sample = np.expand_dims(test_x_flattened[sample_num], axis=0) # pick out a one-sample \"batch\" to feed into model\n",
    "predicted_scores = model.predict(test_sample) # outputted probabilities vector\n",
    "print(predicted_scores) # print predicted scores\n",
    "\n",
    "predicted_class = np.argmax(predicted_scores) # pick the class with highest probability --> final prediction\n",
    "print(predicted_class) # print predicted classification\n",
    "\n",
    "# Show actual input image\n",
    "plt.imshow(test_x[sample_num], cmap=plt.get_cmap('gray'))\n",
    "plt.show()"
   ]
  },
  {
   "cell_type": "code",
   "execution_count": null,
   "metadata": {
    "collapsed": true
   },
   "outputs": [],
   "source": []
  }
 ],
 "metadata": {
  "kernelspec": {
   "display_name": "Python [conda env:caispp]",
   "language": "python",
   "name": "conda-env-caispp-py"
  },
  "language_info": {
   "codemirror_mode": {
    "name": "ipython",
    "version": 3
   },
   "file_extension": ".py",
   "mimetype": "text/x-python",
   "name": "python",
   "nbconvert_exporter": "python",
   "pygments_lexer": "ipython3",
   "version": "3.5.4"
  }
 },
 "nbformat": 4,
 "nbformat_minor": 2
}
